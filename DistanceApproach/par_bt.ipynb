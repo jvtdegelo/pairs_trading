{
 "cells": [
  {
   "cell_type": "code",
   "execution_count": 5,
   "metadata": {},
   "outputs": [
    {
     "ename": "SyntaxError",
     "evalue": "invalid syntax (1466200396.py, line 11)",
     "output_type": "error",
     "traceback": [
      "\u001b[0;36m  Input \u001b[0;32mIn [5]\u001b[0;36m\u001b[0m\n\u001b[0;31m    if data_from:\"brazil data\":\u001b[0m\n\u001b[0m                               ^\u001b[0m\n\u001b[0;31mSyntaxError\u001b[0m\u001b[0;31m:\u001b[0m invalid syntax\n"
     ]
    }
   ],
   "source": [
    "import pandas as pd\n",
    "import numpy as np\n",
    "import bt\n",
    "from AlgosPeriodoDeTrocas import *\n",
    "from AlgosPeriodoDeFormacaoDosPares import *\n",
    "from GetData import *\n",
    "from RunBacktest import *\n",
    "\n",
    "def run_backtest(data):\n",
    "    data = None\n",
    "    if data_from:\"brazil data\":\n",
    "        data = make_data()\n",
    "\n",
    "    else:\n",
    "        data = make_data() \n",
    "\n",
    "    ConfiguraPar        = bt.AlgoStack(bt.algos.RunOnce(), ConfiguracaoInicial())\n",
    "    NormalizaPar        = bt.AlgoStack(ChecaSeNaoFechouPar(), Normaliza())\n",
    "    AbrePosicao         = bt.AlgoStack(ChecaSeAbre(5.), Abre(1.), bt.algos.Rebalance())\n",
    "    FechaPosicao        = bt.AlgoStack(ChecaSeFecha(5.), Fecha(), bt.algos.Rebalance())\n",
    "    FechaPosicaoFim     = bt.AlgoStack(ChecaSeAberto(), Fecha(), bt.algos.Rebalance())\n",
    "    FimPeriodoDeTrocas  = bt.AlgoStack(ChecaSeAcabouPeriodoDeTrocas(6), bt.algos.Or([ChecaSeFechado(), FechaPosicaoFim]), EncerraPar())\n",
    "    \n",
    "    PeriodoDeTrocasPar  = [\n",
    "        bt.algos.Or([ConfiguraPar, NormalizaPar]),\n",
    "        bt.algos.Or([AbrePosicao, FechaPosicao, FimPeriodoDeTrocas])\n",
    "    ]\n",
    "    \n",
    "    ChecaSelecionaPares = bt.algos.Or([bt.AlgoStack(bt.algos.RunOnce(), ConfiguracaoInicialEstrategia()), ChecaSeEscolhePares()])\n",
    "    PeriodoSelecaoPares = [\n",
    "        ChecaSelecionaPares, \n",
    "        SelecionaPares(10),\n",
    "        CriaPares(PeriodoDeTrocasPar),\n",
    "        AlocaPesosPares(0.1)\n",
    "    ]\n",
    "    \n",
    "    strategy = bt.Strategy(\"PairsTradingDistanceApproach\", PeriodoSelecaoPares)\n",
    "    test = bt.Backtest(strategy, data)\n",
    "    out = bt.run(test)\n",
    "    print(out.stats)\n",
    "    return out"
   ]
  },
  {
   "cell_type": "code",
   "execution_count": null,
   "metadata": {},
   "outputs": [],
   "source": []
  }
 ],
 "metadata": {
  "interpreter": {
   "hash": "517d84d835937567be6f8e1e79f26049ad8247fc010b84cd7da75f02c22acd05"
  },
  "kernelspec": {
   "display_name": "Python 3.9.10 ('quant')",
   "language": "python",
   "name": "python3"
  },
  "language_info": {
   "codemirror_mode": {
    "name": "ipython",
    "version": 3
   },
   "file_extension": ".py",
   "mimetype": "text/x-python",
   "name": "python",
   "nbconvert_exporter": "python",
   "pygments_lexer": "ipython3",
   "version": "3.9.10"
  },
  "orig_nbformat": 4
 },
 "nbformat": 4,
 "nbformat_minor": 2
}
